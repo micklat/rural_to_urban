{
 "cells": [
  {
   "cell_type": "code",
   "execution_count": 1,
   "id": "e256d964",
   "metadata": {},
   "outputs": [],
   "source": [
    "import rural_to_urban as rtu"
   ]
  },
  {
   "cell_type": "code",
   "execution_count": 2,
   "id": "b4235f87",
   "metadata": {},
   "outputs": [],
   "source": [
    "import pymc"
   ]
  },
  {
   "cell_type": "code",
   "execution_count": 3,
   "id": "03d3c7f1",
   "metadata": {},
   "outputs": [],
   "source": [
    "from importlib import reload"
   ]
  },
  {
   "cell_type": "code",
   "execution_count": 5,
   "id": "0df3c601",
   "metadata": {},
   "outputs": [],
   "source": [
    "m = rtu.m"
   ]
  },
  {
   "cell_type": "code",
   "execution_count": 6,
   "id": "4cf75c66",
   "metadata": {},
   "outputs": [
    {
     "name": "stdout",
     "output_type": "stream",
     "text": [
      "sampling..."
     ]
    },
    {
     "name": "stderr",
     "output_type": "stream",
     "text": [
      "Sampling: [avg_audience_size_radio_station, chance_change_happen_anyway, cost_edutainment_per_minute_per_ad, cost_of_edutainment_show, cost_per_60_ads, cost_per_ad_production, discount_rate, num_listeners_per_household, num_times_repeat_edutainment_show, percent_areas_covered_by_campaign, percent_families_with_radio_who_receive_message, pfsmw2y_estimate, prob_of_success, rise_in_effect_each_year, stea_estimate, years_before_plateau]\n"
     ]
    },
    {
     "name": "stdout",
     "output_type": "stream",
     "text": [
      " done.\n",
      "total_charity_cost\n",
      "total_cost\n",
      "total_consumption_doublings\n",
      "total_non_charity_cost\n",
      "total_DALYs\n"
     ]
    },
    {
     "name": "stderr",
     "output_type": "stream",
     "text": [
      "/home/michael/Documents/programming/packages/rural_to_urban/rural_to_urban.py:419: UserWarning: Dataset has 0 variance; skipping density estimate. Pass `warn_singular=False` to disable this warning.\n",
      "  seaborn.kdeplot(getattr(samples, name).values.ravel())\n"
     ]
    },
    {
     "data": {
      "image/png": "[encoded data removed]",
      "text/plain": [
       "<Figure size 640x480 with 1 Axes>"
      ]
     },
     "metadata": {},
     "output_type": "display_data"
    }
   ],
   "source": [
    "rtu.run(rtu.__dict__, rtu.save_all, 100000)"
   ]
  },
  {
   "cell_type": "code",
   "execution_count": 8,
   "id": "9d14e1ea",
   "metadata": {},
   "outputs": [],
   "source": [
    "import xarray as xr"
   ]
  },
  {
   "cell_type": "code",
   "execution_count": 9,
   "id": "a9b77820",
   "metadata": {},
   "outputs": [],
   "source": [
    "samples = xr.open_dataset(\"rural_to_urban.all.100000.nc\")"
   ]
  },
  {
   "cell_type": "code",
   "execution_count": 10,
   "id": "eba39508",
   "metadata": {},
   "outputs": [],
   "source": [
    "means = {\n",
    "    name: getattr(samples, name).values.ravel().mean()\n",
    "    for name in samples.keys()\n",
    "}"
   ]
  },
  {
   "cell_type": "code",
   "execution_count": 11,
   "id": "5f27f98f",
   "metadata": {},
   "outputs": [
    {
     "data": {
      "text/plain": [
       "{'cost_per_60_ads': 58.58230857698622,\n",
       " 'total_DALYs': 12282.254516193232,\n",
       " 'consumption_increase_per_family_member': 0.024301121987779933,\n",
       " 'short_term_earning_effects_on_migrant_initial_estimate': 0.5704857117817657,\n",
       " 'total_charity_cost': 925049.5111218118,\n",
       " 'num_different_edutainment_shows_per_year': 37.59206706586713,\n",
       " 'cost_per_edutainment_show': 585.8584884659742,\n",
       " 'prob_of_success': 0.4998209609089231,\n",
       " 'cost_edutainment_per_minute': 29.292924423298714,\n",
       " 'cost_of_edutainment_show': 1479.3817647551343,\n",
       " 'rise_in_effect_each_year': 0.04982700979371342,\n",
       " 'cost_edutainment_per_minute_per_ad': 0.49998560841980483,\n",
       " 'percent_of_increased_consumption': 0.40048096967079955,\n",
       " 'total_variable_charity_costs': 260352.13986648453,\n",
       " 'new_migrants_per_year': 12717.204658947983,\n",
       " 'consumption_doublings': 0.48293145740525756,\n",
       " 'total_ad_production_cost_per_year': 6324.255349941052,\n",
       " 'total_consumption_doublings': 28249.185387244444,\n",
       " 'total_ad_cost': 106985.94103872108,\n",
       " 'num_times_repeat_edutainment_show': 4.339379182064659,\n",
       " 'total_airtime_cost': 91393.92420069198,\n",
       " 'num_families_exposed_to_campaign': 294779.1320484304,\n",
       " 'increased_family_income_due_to_remittences': 0.12550685659198846,\n",
       " 'total_cost': 925049.5111218118,\n",
       " 'years_before_plateau': 7.317045016085738,\n",
       " 'total_edutainment_production_cost_per_year': 55648.01927713046,\n",
       " 'total_non_charity_cost': 0.0,\n",
       " 'chance_change_happen_anyway': 0.01500976106983095,\n",
       " 'discount_rate': 0.040030012569521725,\n",
       " 'cost_per_ad_production': 173.14867487860516}"
      ]
     },
     "execution_count": 11,
     "metadata": {},
     "output_type": "execute_result"
    }
   ],
   "source": [
    "means"
   ]
  },
  {
   "cell_type": "code",
   "execution_count": 12,
   "id": "9453868d",
   "metadata": {},
   "outputs": [],
   "source": [
    "import utils"
   ]
  },
  {
   "cell_type": "code",
   "execution_count": 13,
   "id": "087d36a1",
   "metadata": {},
   "outputs": [
    {
     "name": "stdout",
     "output_type": "stream",
     "text": [
      "charity$/doubling mean 54.0 54.7017840297071\n",
      "charity$/doubling stdev 46.0 59.096036569005946\n",
      "charity$/doubling 5% 14.0 14.048701225098867\n",
      "charity$/doubling 10% 18.0 17.541601507422026\n",
      "charity$/doubling 25% 27.0 25.71040996963302\n",
      "charity$/doubling 50% 42.0 40.172062017855296\n",
      "charity$/doubling 75% 65.0 65.52775262056203\n",
      "charity$/doubling 90% 100.0 104.03301909189676\n",
      "charity$/doubling 95% 130.0 139.33558138765545\n",
      "charity$/DALY mean 120.0 125.81410326832633\n",
      "charity$/DALY stdev 110.0 135.92088410871364\n",
      "charity$/DALY 5% 33.0 32.31201281772739\n",
      "charity$/DALY 10% 42.0 40.34568346707066\n",
      "charity$/DALY 25% 61.0 59.13394293015594\n",
      "charity$/DALY 50% 96.0 92.39574264106717\n",
      "charity$/DALY 75% 150.0 150.71383102729266\n",
      "charity$/DALY 90% 230.0 239.27594391136253\n",
      "charity$/DALY 95% 310.0 320.4718371916075\n",
      "total$/doubling mean 54.0 54.7017840297071\n",
      "total$/doubling stdev 46.0 59.096036569005946\n",
      "total$/doubling 5% 14.0 14.048701225098867\n",
      "total$/doubling 10% 18.0 17.541601507422026\n",
      "total$/doubling 25% 27.0 25.71040996963302\n",
      "total$/doubling 50% 42.0 40.172062017855296\n",
      "total$/doubling 75% 65.0 65.52775262056203\n",
      "total$/doubling 90% 100.0 104.03301909189676\n",
      "total$/doubling 95% 130.0 139.33558138765545\n",
      "total$/DALY mean 120.0 125.81410326832633\n",
      "total$/DALY stdev 110.0 135.92088410871364\n",
      "total$/DALY 5% 33.0 32.31201281772739\n",
      "total$/DALY 10% 42.0 40.34568346707066\n",
      "total$/DALY 25% 61.0 59.13394293015594\n",
      "total$/DALY 50% 96.0 92.39574264106717\n",
      "total$/DALY 75% 150.0 150.71383102729266\n",
      "total$/DALY 90% 230.0 239.27594391136253\n",
      "total$/DALY 95% 310.0 320.4718371916075\n"
     ]
    },
    {
     "data": {
      "text/plain": [
       "{'charity$/doubling': {'mean': 54.7017840297071,\n",
       "  'stdev': 59.096036569005946,\n",
       "  '5%': 14.048701225098867,\n",
       "  '10%': 17.541601507422026,\n",
       "  '25%': 25.71040996963302,\n",
       "  '50%': 40.172062017855296,\n",
       "  '75%': 65.52775262056203,\n",
       "  '90%': 104.03301909189676,\n",
       "  '95%': 139.33558138765545},\n",
       " 'charity$/DALY': {'mean': 125.81410326832633,\n",
       "  'stdev': 135.92088410871364,\n",
       "  '5%': 32.31201281772739,\n",
       "  '10%': 40.34568346707066,\n",
       "  '25%': 59.13394293015594,\n",
       "  '50%': 92.39574264106717,\n",
       "  '75%': 150.71383102729266,\n",
       "  '90%': 239.27594391136253,\n",
       "  '95%': 320.4718371916075},\n",
       " 'total$/doubling': {'mean': 54.7017840297071,\n",
       "  'stdev': 59.096036569005946,\n",
       "  '5%': 14.048701225098867,\n",
       "  '10%': 17.541601507422026,\n",
       "  '25%': 25.71040996963302,\n",
       "  '50%': 40.172062017855296,\n",
       "  '75%': 65.52775262056203,\n",
       "  '90%': 104.03301909189676,\n",
       "  '95%': 139.33558138765545},\n",
       " 'total$/DALY': {'mean': 125.81410326832633,\n",
       "  'stdev': 135.92088410871364,\n",
       "  '5%': 32.31201281772739,\n",
       "  '10%': 40.34568346707066,\n",
       "  '25%': 59.13394293015594,\n",
       "  '50%': 92.39574264106717,\n",
       "  '75%': 150.71383102729266,\n",
       "  '90%': 239.27594391136253,\n",
       "  '95%': 320.4718371916075}}"
      ]
     },
     "execution_count": 13,
     "metadata": {},
     "output_type": "execute_result"
    }
   ],
   "source": [
    "utils.calc_cost_effectiveness(samples)"
   ]
  },
  {
   "cell_type": "code",
   "execution_count": null,
   "id": "21054bac",
   "metadata": {},
   "outputs": [],
   "source": []
  }
 ],
 "metadata": {
  "kernelspec": {
   "display_name": "Python 3 (ipykernel)",
   "language": "python",
   "name": "python3"
  },
  "language_info": {
   "codemirror_mode": {
    "name": "ipython",
    "version": 3
   },
   "file_extension": ".py",
   "mimetype": "text/x-python",
   "name": "python",
   "nbconvert_exporter": "python",
   "pygments_lexer": "ipython3",
   "version": "3.10.12"
  }
 },
 "nbformat": 4,
 "nbformat_minor": 5
}
